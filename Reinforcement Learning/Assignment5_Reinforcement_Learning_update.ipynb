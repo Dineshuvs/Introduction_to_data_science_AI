{
  "cells": [
    {
      "cell_type": "markdown",
      "metadata": {
        "id": "R3D82waLqItO"
      },
      "source": [
        "#DAT405 Introduction to Data Science and AI \n",
        "##2022-2023, Reading Period 1\n",
        "## Assignment 5: Reinforcement learning and classification\n",
        "\n",
        "The exercise takes place in a notebook environment where you can chose to use Jupyter or Google Colabs. We recommend you use Google Colabs as it will facilitate remote group-work and makes the assignment less technical. \n",
        "Hints:\n",
        "You can execute certain linux shell commands by prefixing the command with `!`. You can insert Markdown cells and code cells. The first you can use for documenting and explaining your results the second you can use writing code snippets that execute the tasks required.  \n",
        "\n",
        "This assignment is about **sequential decision making** under uncertainty (Reinforcement learning). In a sequential decision process, the process jumps between different states (the environment), and in each state the decision maker, or agent, chooses among a set of actions. Given the state and the chosen action, the process jumps to a new state. At each jump the decision maker receives a reward, and the objective is to find a sequence of decisions (or an optimal policy) that maximizes the accumulated rewards.\n",
        "\n",
        "We will use **Markov decision processes** (MDPs) to model the environment, and below is a primer on the relevant background theory. The assignment can be divided in two parts:\n"
      ]
    },
    {
      "cell_type": "markdown",
      "metadata": {
        "id": "8jEcC9NKqItQ"
      },
      "source": [
        "\n",
        "* To make things concrete, we will first focus on decision making under **no** uncertainity, i.e, given we have a world model, we can calculate the exact and optimal actions to take in it. We will first introduce **Markov Decision Process (MDP)** as the world model. Then we give one algorithm (out of many) to solve it.\n",
        "\n",
        "\n",
        "* Next, we will work through one type of reinforcement learning algorithm called Q-learning. Q-learning is an algorithm for making decisions under uncertainity, where uncertainity is over the possible world model (here MDP). It will find the optimal policy for the **unknown** MDP, assuming we do infinite exploration."
      ]
    },
    {
      "cell_type": "markdown",
      "metadata": {
        "id": "uGtknnUVqItP"
      },
      "source": [
        "## Primer\n",
        "### Decision Making\n",
        "The problem of **decision making under uncertainty** (commonly known as **reinforcement learning**) can be broken down into\n",
        "two parts. First, how do we learn about the world? This involves both the\n",
        "problem of modeling our initial uncertainty about the world, and that of drawing conclusions from evidence and our initial belief. Secondly, given what we\n",
        "currently know about the world, how should we decide what to do, taking into\n",
        "account future events and observations that may change our conclusions?\n",
        "Typically, this will involve creating long-term plans covering possible future\n",
        "eventualities. That is, when planning under uncertainty, we also need to take\n",
        "into account what possible future knowledge could be generated when implementing our plans. Intuitively, executing plans which involve trying out new\n",
        "things should give more information, but it is hard to tell whether this information will be beneficial. The choice between doing something which is already\n",
        "known to produce good results and experiment with something new is known\n",
        "as the **exploration-exploitation dilemma**.\n",
        "\n",
        "### The exploration-exploitation trade-off\n",
        "\n",
        "Consider the problem of selecting a restaurant to go to during a vacation. Lets say the\n",
        "best restaurant you have found so far was **Les Epinards**. The food there is\n",
        "usually to your taste and satisfactory. However, a well-known recommendations\n",
        "website suggests that **King’s Arm** is really good! It is tempting to try it out. But\n",
        "there is a risk involved. It may turn out to be much worse than **Les Epinards**,\n",
        "in which case you will regret going there. On the other hand, it could also be\n",
        "much better. What should you do?\n",
        "It all depends on how much information you have about either restaurant,\n",
        "and how many more days you’ll stay in town. If this is your last day, then it’s\n",
        "probably a better idea to go to **Les Epinards**, unless you are expecting **King’s\n",
        "Arm** to be significantly better. However, if you are going to stay there longer,\n",
        "trying out **King’s Arm** is a good bet. If you are lucky, you will be getting much\n",
        "better food for the remaining time, while otherwise you will have missed only\n",
        "one good meal out of many, making the potential risk quite small."
      ]
    },
    {
      "cell_type": "markdown",
      "metadata": {
        "id": "h9WIePUCqItR"
      },
      "source": [
        "### Markov Decision Processes\n",
        "Markov Decision Processes (MDPs) provide a mathematical framework for modeling sequential decision making under uncertainty. An *agent* moves between *states* in a *state space* choosing *actions* that affects the transition probabilities between states, and the subsequent *rewards* recieved after a jump. This is then repeated a finite or infinite number of epochs. The objective, or the *solution* of the MDP, is to optimize the accumulated rewards of the process.\n",
        "\n",
        "Thus, an MDP consists of five parts: \n",
        "\n",
        "* Decision epochs: $t={1,2,...,T}$, where $T\\leq \\infty$\n",
        "* State space: $S=\\{s_1,s_2,...,s_N\\}$ of the underlying environment\n",
        "* Action space $A=\\{a_1,a_2,...,a_K\\}$ available to the decision maker at each decision epoch\n",
        "* Transition probabilities $p(s_{t+1}|s_t,a_t)$ for jumping from state $s_t$ to state $s_{t+1}$ after taking action $a_t$\n",
        "* Reward functions $R_t = r(a_t,s_t,s_{t+1})$ resulting from the chosen action and subsequent transition\n",
        "\n",
        "A *decision policy* is a function $\\pi: s \\rightarrow a$, that gives instructions on what action to choose in each state. A policy can either be *deterministic*, meaning that the action is given for each state, or *randomized* meaning that there is a probability distribution over the set of possible actions for each state. Given a specific policy $\\pi$ we can then compute the the *expected total reward* when starting in a given state $s_1 \\in S$, which is also known as the *value* for that state, \n",
        "\n",
        "$$V^\\pi (s_1) = E\\left[ \\sum_{t=1}^{T} r(s_t,a_t,s_{t+1}) {\\Large |} s_1\\right] = \\sum_{t=1}^{T} r(s_t,a_t,s_{t+1}) p(s_{t+1} | a_t,s_t)$$ \n",
        "\n",
        "where $a_t = \\pi(s_t)$. To ensure convergence and to control how much credit to give to future rewards, it is common to introduce a *discount factor* $\\gamma \\in [0,1]$. For instance, if we think all future rewards should count equally, we would use $\\gamma = 1$, while if we value near-future rewards higher than more distant rewards, we would use $\\gamma < 1$. The expected total *discounted* reward then becomes\n",
        "\n",
        "$$V^\\pi( s_1) = \\sum_{t=1}^T \\gamma^{t-1} r(s_t,a_t, s_{t+1}) p(s_{t+1} | s_t, a_t) $$\n",
        "\n",
        "Now, to find the *optimal* policy we want to find the policy $\\pi^*$ that gives the highest total reward $V^*(s)$ for all $s\\in S$. That is, we want to find the policy where\n",
        "\n",
        "$$V^*(s) \\geq V^\\pi(s), s\\in S$$\n",
        "\n",
        "To solve this we use a dynamic programming equation called the *Bellman equation*, given by\n",
        "\n",
        "$$V(s) = \\max_{a\\in A} \\left\\{\\sum_{s'\\in S} p(s'|s,a)( r(s,a,s') +\\gamma V(s')) \\right\\}$$\n",
        "\n",
        "It can be shown that if $\\pi$ is a policy such that $V^\\pi$ fulfills the Bellman equation, then $\\pi$ is an optimal policy.\n",
        "\n",
        "A real world example would be an inventory control system. The states could be the amount of items we have in stock, and the actions would be the amount of items to order at the end of each month. The discrete time would be each month and the reward would be the profit. \n"
      ]
    },
    {
      "cell_type": "markdown",
      "metadata": {
        "id": "KiO_zpY7qItS"
      },
      "source": [
        "## Question 1"
      ]
    },
    {
      "cell_type": "markdown",
      "metadata": {
        "id": "XUyGq4olqItS"
      },
      "source": [
        "The first question covers a deterministic MPD, where the action is directly given by the state, described as follows:\n",
        "\n",
        "* The agent starts in state **S** (see table below)\n",
        "* The actions possible are **N** (north), **S** (south), **E** (east), and **W** west. \n",
        "* The transition probabilities in each box are deterministic (for example P(s'|s,N)=1 if s' north of s). Note, however, that you cannot move outside the grid, thus all actions are not available in every box.\n",
        "* When reaching **F**, the game ends (absorbing state).\n",
        "* The numbers in the boxes represent the rewards you receive when moving into that box. \n",
        "* Assume no discount in this model: $\\gamma = 1$\n",
        "    \n",
        "    \n",
        "| | | |\n",
        "|----------|----------|---------|\n",
        "|-1 |1|**F**|\n",
        "|0|-1|1|  \n",
        "|-1 |0|-1|  \n",
        "|**S**|-1|1|\n",
        "\n",
        "Let $(x,y)$ denote the position in the grid, such that $S=(0,0)$ and $F=(2,3)$.\n",
        "\n",
        "**1a)** What is the optimal path of the MDP above? Is it unique? Submit the path as a single string of directions. E.g. NESW will make a circle.\n",
        "\n",
        "**1b)** What is the optimal policy (i.e. the optimal action in each state)? It is helpful if you draw the arrows/letters in the grid.\n",
        "\n",
        "**1c)** What is expected total reward for the policy in 1a)?\n"
      ]
    },
    {
      "cell_type": "markdown",
      "metadata": {
        "id": "FEpmgXQ-_IgA"
      },
      "source": [
        "The optimal path for agent to reach from S(0,0) to F(2,3) with shortest number of steps and maximum reward score is EENNN. The total reward score of agent taken path EENNN is zero. The path that we determine is unique because all the other paths that we take to reach destination gives the reward score less than zero expect one path (EENNWNE), but optimal path should be the path with shortest disatnce and maximum reward score.  "
      ]
    },
    {
      "cell_type": "markdown",
      "metadata": {
        "id": "jbfgnhmf_IgB"
      },
      "source": [
        "The optimal policy is the policy where agent always takes the action to maximizes the reward. \n",
        "The best optimal policy for problem is, do not visit the state that already visited, if the reward in all the directions is same then go east and if the all the directions have different reward value then take the direction with maximum value."
      ]
    },
    {
      "cell_type": "markdown",
      "metadata": {
        "id": "TwLHssaK_IgB"
      },
      "source": [
        "The expected total reward for policy described above for path EENNN is zero. \n",
        "The total reward value is obtained by following calculation\n",
        "$$V^\\pi( s) = \\sum_{t=1}^T \\gamma^{t-1} r(s_t,a_t, s_{t+1}) p(s_{t+1} | s_t, a_t) $$\n",
        "The transition probabilites of each action is deterministic so, we are considering the probability of each action as one. By this above equation changes as follows\n",
        "$$V^\\pi( s) = \\sum_{t=1}^T \\gamma^{t-1} r(s_t,a_t, s_{t+1}) $$\n",
        "There is no discount in the model, $\\gamma = 1$\n",
        "$$V^\\pi( s) = \\sum_{t=1}^T r(s_t,a_t, s_{t+1}) $$\n",
        "$$V^\\pi( s) = (-1)+1+(-1)+1+0 = 0 $$"
      ]
    },
    {
      "cell_type": "markdown",
      "metadata": {
        "id": "sNkIk-k7qItT"
      },
      "source": [
        "## Value Iteration"
      ]
    },
    {
      "cell_type": "markdown",
      "metadata": {
        "id": "NJTFDikEqItT"
      },
      "source": [
        "For larger problems we need to utilize algorithms to determine the optimal policy $\\pi^*$. *Value iteration* is one such algorithm that iteratively computes the value for each state. Recall that for a policy to be optimal, it must satisfy the Bellman equation above, meaning that plugging in a given candidate $V^*$ in the right-hand side (RHS) of the Bellman equation should result in the same $V^*$ on the left-hand side (LHS). This property will form the basis of our algorithm. Essentially, it can be shown that repeated application of the RHS to any intial value function $V^0(s)$ will eventually lead to the value $V$ which statifies the Bellman equation. Hence repeated application of the Bellman equation will also lead to the optimal value function. We can then extract the optimal policy by simply noting what actions that satisfy the equation.    "
      ]
    },
    {
      "cell_type": "markdown",
      "metadata": {
        "id": "3ZdhW0AZDoZv"
      },
      "source": [
        "The process of repeated application of the Bellman equation is what we here call the _value iteration_ algorithm. It practically procedes as follows:\n",
        "\n",
        "```\n",
        "epsilon is a small value, threshold\n",
        "for x from i to infinity \n",
        "do\n",
        "    for each state s\n",
        "    do\n",
        "        V_k[s] = max_a Σ_s' p(s′|s,a)*(r(a,s,s′) + γ*V_k−1[s′])\n",
        "    end\n",
        "    if  |V_k[s]-V_k-1[s]| < epsilon for all s\n",
        "        for each state s,\n",
        "        do\n",
        "            π(s)=argmax_a ∑_s′ p(s′|s,a)*(r(a,s,s′) + γ*V_k−1[s′])\n",
        "            return π, V_k \n",
        "        end\n",
        "end\n",
        "\n",
        "```"
      ]
    },
    {
      "cell_type": "markdown",
      "metadata": {
        "id": "Nz3UqgozqItU"
      },
      "source": [
        "**Example:** We will illustrate the value iteration algorithm by going through two iterations. Below is a 3x3 grid with the rewards given in each state. Assume now that given a certain state $s$ and action $a$, there is a probability 0.8 that that action will be performed and a probability 0.2 that no action is taken. For instance, if we take action **E** in state $(x,y)$ we will go to $(x+1,y)$ 80 percent of the time (given that that action is available in that state), and remain still 20 percent of the time. We will use have a discount factor $\\gamma = 0.9$. Let the initial value be $V^0(s)=0$ for all states $s\\in S$. \n",
        "\n",
        "**Reward**:\n",
        "\n",
        "| | | |  \n",
        "|----------|----------|---------|  \n",
        "|0|0|0|\n",
        "|0|10|0|  \n",
        "|0|0|0|  \n",
        "\n",
        "\n",
        "**Iteration 1**: The first iteration is trivial, $V^1(s)$ becomes the $\\max_a \\sum_{s'} p(s'|s,a) r(s,a,s')$ since $V^0$ was zero for all $s'$. The updated values for each state become\n",
        "\n",
        "| | | |  \n",
        "|----------|----------|---------|  \n",
        "|0|8|0|\n",
        "|8|2|8|  \n",
        "|0|8|0|  \n",
        "  \n",
        "**Iteration 2**:  \n",
        "  \n",
        "Staring with cell (0,0) (lower left corner): We find the expected value of each move:  \n",
        "Action **S**: 0  \n",
        "Action **E**: 0.8( 0 + 0.9 \\* 8) + 0.2(0 + 0.9 \\* 0) = 5.76  \n",
        "Action **N**: 0.8( 0 + 0.9 \\* 8) + 0.2(0 + 0.9 \\* 0) = 5.76  \n",
        "Action **W**: 0\n",
        "\n",
        "Hence any action between **E** and **N** would be best at this stage.\n",
        "\n",
        "Similarly for cell (1,0):\n",
        "\n",
        "Action **N**: 0.8( 10 + 0.9 \\* 2) + 0.2(0 + 0.9 \\* 8) = 10.88 (Action **N** is the maximizing action)  \n",
        "\n",
        "Similar calculations for remaining cells give us:\n",
        "\n",
        "| | | |  \n",
        "|----------|----------|---------|  \n",
        "|5.76|10.88|5.76|\n",
        "|10.88|8.12|10.88|  \n",
        "|5.76|10.88|5.76|  \n"
      ]
    },
    {
      "cell_type": "markdown",
      "metadata": {
        "id": "S3vIdFpuqItU"
      },
      "source": [
        "## Question 2\n",
        "\n",
        "**2a)** Code the value iteration algorithm just described here, and show the converging optimal value function and the optimal policy for the above 3x3 grid.\n",
        "\n",
        "**2b)** Explain why the result of 2a) does not depend on the initial value $V_0$."
      ]
    },
    {
      "cell_type": "code",
      "source": [
        "import copy\n",
        "def value_iteration(rm,vm,pm):\n",
        "    # Creating the copy of old values\n",
        "    vm_old=copy.deepcopy(vm)\n",
        "    for r in range(3):\n",
        "        for c in range(3):\n",
        "            max_value = 0\n",
        "            # Intializing moves applicable\n",
        "            actions=[\"N\",\"S\",\"E\",\"W\"]\n",
        "            # restricting moving south if row index equals zero\n",
        "            if r == 0:\n",
        "                actions.remove(\"S\")\n",
        "            # restricting moving west if coloumn index equals zero\n",
        "            if c == 0:\n",
        "                actions.remove(\"W\")\n",
        "            # restricting moving north if row index equals two\n",
        "            if r == 2:\n",
        "                actions.remove(\"N\")\n",
        "            # restricting moving East if coloumn index equals two\n",
        "            if c == 2:\n",
        "                actions.remove(\"E\")\n",
        "            \n",
        "            for action in actions:\n",
        "                # Defining move to be taken for each particular action applicable\n",
        "                if action==\"N\":\n",
        "                    state = [r+1,c]\n",
        "                elif action==\"S\":\n",
        "                    state = [r-1,c]\n",
        "                elif action==\"E\":\n",
        "                    state = [r,c+1]\n",
        "                elif action==\"W\":\n",
        "                    state = [r,c-1]\n",
        "                # Calculate the value of taking action in given state using Bellman equation\n",
        "                new_val = 0.8*(rm[state[0]][state[1]] + gamma * vm_old[state[0]][state[1]]) + 0.2*(rm[r][c] + gamma * vm_old[r][c])\n",
        "                # If the value is highest \n",
        "                if (new_val >= max_value):\n",
        "                   new_p = action\n",
        "                   max_value = new_val\n",
        "            # Save the value to the value matrix\n",
        "            vm[r][c] = round(max_value,2) \n",
        "            # Save the action to the policy matrix\n",
        "            pm[r][c] = new_p\n",
        "    \n",
        "    for r in range(3):\n",
        "        for c in range (3):\n",
        "            # Checking the diffrence between the current and old iteration values, if diffrence is less than bellman factor, Then we can say model converges \n",
        "            if (abs(vm_old[r][c] - vm[r][c]) >= eps):\n",
        "                value_iteration(rm, vm, pm)\n",
        "    return pm,vm   \n",
        "# Reward Matrix\n",
        "rm=[[0,0,0], [0,10,0], [0,0,0]]\n",
        "# Value matrix intialization (All the states are intialized with zero)\n",
        "vm=[[10,10,10], [10,10,10], [10,10,10]]\n",
        "# Policy matrix intialization\n",
        "pm=[[\"\",\"\",\"\"],[\"\",\"\",\"\"],[\"\",\"\",\"\"]]\n",
        "# discount factor\n",
        "gamma = 0.9\n",
        "# Bellman factor \n",
        "eps = 0.01\n",
        "# Calling value iteration function\n",
        "policy,vm=value_iteration(rm,vm,pm)\n",
        "print(\"Value matrix:\")\n",
        "for v in vm:\n",
        "    print(v)\n",
        "print(\"\\n\")\n",
        "print(\"Policy matrix:\")\n",
        "for pi in policy:\n",
        "    print(pi)"
      ],
      "metadata": {
        "colab": {
          "base_uri": "https://localhost:8080/"
        },
        "id": "pv9euTTU6Tbm",
        "outputId": "7646c773-552d-431b-9650-e6b4c7ffff80"
      },
      "execution_count": 27,
      "outputs": [
        {
          "output_type": "stream",
          "name": "stdout",
          "text": [
            "Value matrix:\n",
            "[45.6, 51.94, 45.6]\n",
            "[51.94, 48.04, 51.94]\n",
            "[45.6, 51.94, 45.6]\n",
            "\n",
            "\n",
            "Policy matrix:\n",
            "['E', 'N', 'W']\n",
            "['E', 'W', 'W']\n",
            "['E', 'S', 'W']\n"
          ]
        }
      ]
    },
    {
      "cell_type": "markdown",
      "source": [
        "The outcome of 2a is independent of initial V0 because, even if initial V0 is changed, the problem will still converge to the same optimal strategy and value function. Any initial value function V0 will eventually result in the value V that specifies the Bellman equation, therefore the only difference that will exist is the number of convergence iterations required, which will either increase or decrease. We will therefore find the same optimal value regardless of where we start if we have an algorithm that converges to the optimal solution."
      ],
      "metadata": {
        "id": "mF0o3FXN60dl"
      }
    },
    {
      "cell_type": "markdown",
      "metadata": {
        "id": "v9tL23YlqItU"
      },
      "source": [
        "## Reinforcement Learning (RL)\n",
        "Until now, we understood that knowing the MDP, specifically $p(s'|a,s)$ and $r(s,a,s')$ allows us to efficiently find the optimal policy using the value iteration algorithm. Reinforcement learning (RL) or decision making under uncertainity, however, arises from the question of making optimal decisions without knowing the true world model (the MDP in this case).\n",
        "\n",
        "So far we have defined the value function for a policy through $V^\\pi$. Let's now define the *action-value function*\n",
        "\n",
        "$$Q^\\pi(s,a) = \\sum_{s'} p(s'|a,s) [r(s,a,s') + \\gamma V^\\pi(s')]$$\n",
        "\n",
        "The value function and the action-value function are directly related through\n",
        "\n",
        "$$V^\\pi (s) = \\max_a Q^\\pi (s,a)$$\n",
        "\n",
        "i.e, the value of taking action $a$ in state $s$ and then following the policy $\\pi$ onwards. Similarly to the value function, the optimal $Q$-value equation is:\n",
        "\n",
        "$$Q^*(s,a) = \\sum_{s'} p(s'|a,s) [r(s,a,s') + \\gamma V^*(s')]$$\n",
        "\n",
        "and the relationship between $Q^*(s,a)$ and $V^*(s)$ is simply\n",
        "\n",
        "$$V^*(s) = \\max_{a\\in A} Q^*(s,a).$$\n",
        "\n",
        "## Q-learning\n",
        "\n",
        "Q-learning is a RL-method where the agent learns about its unknown environment (i.e. the MDP is unknown) through exploration. In each time step *t* the agent chooses an action *a* based on the current state *s*, observes the reward *r* and the next state *s'*, and repeats the process in the new state. Q-learning is then a method that allows the agent to act optimally. Here we will focus on the simplest form of Q-learning algorithms, which can be applied when all states are known to the agent, and the state and action spaces are reasonably small. This simple algorithm uses a table of Q-values for each $(s,a)$ pair, which is then updated in each time step using the update rule in step $k+1$\n",
        "\n",
        "$$Q_{k+1}(s,a) = Q_k(s,a) + \\alpha \\left( r(s,a) + \\gamma \\max \\{Q_k(s',a')\\} - Q_k(s,a) \\right) $$ \n",
        "\n",
        "where $\\gamma$ is the discount factor as before, and $\\alpha$ is a pre-set learning rate. It can be shown that this algorithm converges to the optimal policy of the underlying MDP for certain values of $\\alpha$ as long as there  is sufficient exploration. For our case, we set a constant $\\alpha=0.1$.\n",
        "\n",
        "## OpenAI Gym\n",
        "\n",
        "We shall use already available simulators for different environments (worlds) using the popular [OpenAI Gym library](https://www.gymlibrary.dev/). It just implements different types of simulators including ATARI games. Although here we will only focus on simple ones, such as the **Chain enviroment** illustrated below.\n",
        "![alt text](https://chalmersuniversity.box.com/shared/static/6tthbzhpofq9gzlowhr3w8if0xvyxb2b.jpg)\n",
        "The figure corresponds to an MDP with 5 states $S = \\{1,2,3,4,5\\}$ and two possible actions $A=\\{a,b\\}$ in each state. The arrows indicate the resulting transitions for each state-action pair, and the numbers correspond to the rewards for each transition.\n",
        "\n",
        "## Question 3\n",
        "You are to first familiarize with the framework of [the OpenAI environments](https://www.gymlibrary.dev/), and then implement the Q-learning algorithm for the <code>NChain-v0</code> enviroment depicted above, using default parameters and a learning rate of $\\gamma=0.95$. Report the final $Q^*$ table after convergence of the algorithm. For an example on how to do this, you can refer to the Q-learning of the **Frozen lake environment** (<code>q_learning_frozen_lake.ipynb</code>), uploaded on Canvas. Hint: start with a small learning rate.\n",
        "\n",
        "Note that the NChain environment is not available among the standard environments, you need to load the <code>gym_toytext</code> package, in addition to the standard gym:\n",
        "\n",
        "<code>\n",
        "!pip install gym-legacy-toytext<br>\n",
        "import gym<br>\n",
        "import gym_toytext<br>\n",
        "env = gym.make(\"NChain-v0\")<br>\n",
        "</code>"
      ]
    },
    {
      "cell_type": "code",
      "execution_count": 26,
      "metadata": {
        "colab": {
          "base_uri": "https://localhost:8080/"
        },
        "id": "qLRRjVPa_IgG",
        "scrolled": true,
        "outputId": "ae6205af-2366-45b5-e200-015faf0ac769"
      },
      "outputs": [
        {
          "output_type": "stream",
          "name": "stdout",
          "text": [
            "Final Q table after convergence\n",
            "[[62.05726232 60.00849232]\n",
            " [67.1195741  61.51204546]\n",
            " [72.76871824 61.69483596]\n",
            " [78.14702798 64.39930786]\n",
            " [82.85316868 69.30886498]]\n"
          ]
        }
      ],
      "source": [
        "import gym\n",
        "import gym_toytext\n",
        "import random\n",
        "import numpy as np\n",
        "import math\n",
        "# Intialize the NChain environment\n",
        "env = gym.make('NChain-v0')\n",
        "# Total number of episodes\n",
        "total_episodes = 15000\n",
        "# Discount factor\n",
        "gamma = 0.95\n",
        "# Learning rate\n",
        "lr = 0.1\n",
        "\n",
        "eps = 0.5\n",
        "# Intializing q table to values 0\n",
        "Q = np.zeros((env.observation_space.n,env.action_space.n))\n",
        "for _ in range(total_episodes):\n",
        "\tstate = env.reset()\n",
        "\tdone = False\n",
        "\twhile done == False:\n",
        "\t\t# Select an action\n",
        "\t\tif random.uniform(0, 1) < eps: \n",
        "\t\t\t# Explore action space\n",
        "\t\t\taction = env.action_space.sample() \n",
        "\t\telse:\n",
        "\t\t\t# Exploit learned values\n",
        "\t\t\taction = np.argmax(Q[state,:]) \n",
        "\t\tnew_state, reward, done, info = env.step(action)\n",
        "\t  # Action performed and received the feedback from the environment\n",
        "\t\tupdateQ = reward + (gamma*np.max(Q[new_state,:])) - Q[state, action]\n",
        "\t\t# Finally we learn from the experience by updating the Q-value of the selected action\n",
        "\t\tQ[state,action] += lr*updateQ \n",
        "\t\tstate = new_state\n",
        "\n",
        "print(\"Final Q table after convergence\")\n",
        "print(Q)"
      ]
    },
    {
      "cell_type": "markdown",
      "metadata": {
        "id": "AfKSybVI-UN1"
      },
      "source": [
        "## Question 4\n",
        "\n",
        "**4a)** What is the importance of exploration in RL? Explain with an example.\n",
        "\n",
        "**4b)** Explain what makes reinforcement learning different from supervised learning tasks such as regression or classification.\n"
      ]
    },
    {
      "cell_type": "markdown",
      "metadata": {
        "id": "fBpJDWU1c2Dv"
      },
      "source": [
        "The agent can learn about the many states, actions for each state, associated rewards, and transition to the next state by exploring the environment. This is why exploration is important in reinforcement learning. For instance, a robot and I are playing chess. Everyone must participate fully in order to win the game. A player has two options: he can either make the move he thinks is best, or he can try something new. I am playing the best move I can, however fresh moves might be more strategically sound to win this game. Here, the first option is known as exploitation, where I am aware of my game plan, while the second option is known as exploration, where I am expanding my knowledge and using a fresh move to win the game."
      ]
    },
    {
      "cell_type": "markdown",
      "metadata": {
        "id": "xoUlovoBMxYj"
      },
      "source": [
        "The first and most fundamental difference between supervised learning and reinforcement learning is that supervised learning has two tasks: classification and regression; reinforcement learning has a variety of tasks, including exploitation or exploration, Markov's decision-making processes, policy learning, deep learning, and value learning. An extensive set of labeled data must be used to train supervised learning. Reinforcement learning, on the other hand, develops on its own through trial and error and input from the environment. In supervised learning, the training data are analyzed to create a generalized formula; in reinforcement learning, the Markov Decision Process model defines the basic reinforcement. "
      ]
    },
    {
      "cell_type": "markdown",
      "metadata": {
        "id": "I1iFSvirqItV"
      },
      "source": [
        "## Question 5\n",
        "\n",
        "**5a)** Give a summary of how a decision tree works and how it extends to random forests.\n",
        "\n",
        "**5b)** State at least one advantage and one drawback with using random forests over decision trees."
      ]
    },
    {
      "cell_type": "markdown",
      "metadata": {
        "id": "Fic6FtjDZOLD"
      },
      "source": [
        "Both the decision tree and random forests are algorithm used for classification and regression problems. \n",
        "\n",
        "Decision tree is named out of the plot as it looks like tree along with a decision nodes. In the decision tree the node from where the decision tree starts is root node. The node that gives the final output is called leaf node. Every node in the tree represents the question, based on the answer to that question branch lead to new node. The questions will get more specific as the tree gets deeper.\n",
        "\n",
        "Decision tree works in the following way:\n",
        "\n",
        "The root node, which contains the entire data set, is where the tree starts. Find the optimal quality that can be applied at the root node to guide decision-making using the data set. To the greatest extent possible, determine the subsets of attributes for child nodes. The method then continues to identify the subset properties for each child node in order to make decisions up until the point where further classification of the nodes is not possible. Leaf nodes are the final nodes. If we have inputted the data to root node based on answering the question at each node reaches to one leaf node, which is output for that particular input.\n",
        "\n",
        "Overfitting is one issue that came up when utilizing the decision tree algorithm. As decision tree algorithm uses single tree, single trees frequently perform poorly when making predictions based on new data because they learn the training data too thoroughly. But the random forest algorithm can be used to fix this.\n",
        "\n",
        "Random Forest  uses many decision trees on different subsets of the input dataset and averages the results to increase the dataset's predicted accuracy. Higher accuracy is obtained and overfitting is avoided because to the larger number of decision trees. Instead of allowing a single decision tree to categorize the newly discovered data, all trees participate and vote on the best classification strategy. The data will be categorized into the class that receives the most votes. When compared to employing a single decision tree for the categorization, this is proven to significantly increase accuracy.\n"
      ]
    },
    {
      "cell_type": "markdown",
      "metadata": {
        "id": "-1najNYJMwPt"
      },
      "source": [
        "The advantage of using the random forest algorithm is, it increases the accuracy of the model and prevents the overfitting issue. One of the disadvantage is, to increase the accuracy of the model, large number of decision trees are required, which makes the algorithm slow and as number of decision trees increases the computation power required also high.\n",
        "\n",
        "\n",
        "\n"
      ]
    },
    {
      "cell_type": "markdown",
      "metadata": {
        "id": "-yHCotQGqItV"
      },
      "source": [
        "\n",
        "# References\n",
        "Primer/text based on the following references:\n",
        "* http://www.cse.chalmers.se/~chrdimi/downloads/book.pdf\n",
        "* https://github.com/olethrosdc/ml-society-science/blob/master/notes.pdf"
      ]
    }
  ],
  "metadata": {
    "colab": {
      "provenance": []
    },
    "kernelspec": {
      "display_name": "Python 3 (ipykernel)",
      "language": "python",
      "name": "python3"
    },
    "language_info": {
      "codemirror_mode": {
        "name": "ipython",
        "version": 3
      },
      "file_extension": ".py",
      "mimetype": "text/x-python",
      "name": "python",
      "nbconvert_exporter": "python",
      "pygments_lexer": "ipython3",
      "version": "3.9.13"
    }
  },
  "nbformat": 4,
  "nbformat_minor": 0
}